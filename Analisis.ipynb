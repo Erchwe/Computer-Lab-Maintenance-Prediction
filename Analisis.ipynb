{
 "cells": [
  {
   "cell_type": "markdown",
   "id": "8e3094bf-fd6c-42bc-a98b-3178b5995e05",
   "metadata": {},
   "source": [
    "# Prediksi Maintenance"
   ]
  },
  {
   "cell_type": "markdown",
   "id": "d9d90176-c54e-4f3b-903d-b353baa86626",
   "metadata": {},
   "source": [
    "Kelompok 3:\n",
    "- Jessica Anne - 2272031\n",
    "- Rafael Cavin Emmanuel Tuasuun - 2272041\n",
    "- Selin Velday Papilaya - 2272048\n",
    "\n",
    "Tujuan analisis ini adalah untuk mengetahui lab mana saja yang butuh maintenance selama 30 hari dan 180 hari depan, serta perkiraan jam maintenance yang dibutuhkan sehingga Kepala Staff Lab GWM Lt. 8 dapat melakukan langkah strategis untuk menghindari kasus kerusakan komponen lab dengan mengalokasikan anggota tim staff. \n"
   ]
  },
  {
   "cell_type": "markdown",
   "id": "8abaab4a-8bf7-4cb4-8e09-10cf89a1409d",
   "metadata": {},
   "source": [
    "\n",
    "Hal pertama yang kami lakukan adalah prepocessing data, kami mulai dengan mengakses file dataset yang sudah kami kumpulkan, kemudian menampilkan beberapa baris untuk memberikan sedikit pemahaman tentang struktur dan juga konten dari dataset."
   ]
  },
  {
   "cell_type": "code",
   "execution_count": 1,
   "id": "dfeff699-bbe2-4780-a760-9fe8c29f9b47",
   "metadata": {},
   "outputs": [
    {
     "data": {
      "text/html": [
       "<div>\n",
       "<style scoped>\n",
       "    .dataframe tbody tr th:only-of-type {\n",
       "        vertical-align: middle;\n",
       "    }\n",
       "\n",
       "    .dataframe tbody tr th {\n",
       "        vertical-align: top;\n",
       "    }\n",
       "\n",
       "    .dataframe thead th {\n",
       "        text-align: right;\n",
       "    }\n",
       "</style>\n",
       "<table border=\"1\" class=\"dataframe\">\n",
       "  <thead>\n",
       "    <tr style=\"text-align: right;\">\n",
       "      <th></th>\n",
       "      <th>Timestamp</th>\n",
       "      <th>Email Address</th>\n",
       "      <th>NRP - Nama</th>\n",
       "      <th>Tanggal</th>\n",
       "      <th>Jam Masuk</th>\n",
       "      <th>Jam Selesai</th>\n",
       "      <th>Total Jam</th>\n",
       "      <th>Lab yang dilakukan maintenance</th>\n",
       "      <th>Kegiatan yang dilakukan</th>\n",
       "    </tr>\n",
       "  </thead>\n",
       "  <tbody>\n",
       "    <tr>\n",
       "      <th>0</th>\n",
       "      <td>2021-11-27 01:14:05.654</td>\n",
       "      <td>2072001@maranatha.ac.id</td>\n",
       "      <td>2072001 - Matthew Julian</td>\n",
       "      <td>2021-11-19</td>\n",
       "      <td>10:00:00</td>\n",
       "      <td>17:00:00</td>\n",
       "      <td>07:00:00</td>\n",
       "      <td>All</td>\n",
       "      <td>pengambilan dan pemasangan alat hybrid untuk s...</td>\n",
       "    </tr>\n",
       "    <tr>\n",
       "      <th>1</th>\n",
       "      <td>2021-11-27 09:15:24.546</td>\n",
       "      <td>2072008@maranatha.ac.id</td>\n",
       "      <td>2072008 - Nicholas Christel Hanafi</td>\n",
       "      <td>2021-11-19</td>\n",
       "      <td>11:00:00</td>\n",
       "      <td>17:00:00</td>\n",
       "      <td>06:00:00</td>\n",
       "      <td>All</td>\n",
       "      <td>Rakit Bracket dan TV untuk Hybrid.</td>\n",
       "    </tr>\n",
       "    <tr>\n",
       "      <th>2</th>\n",
       "      <td>2021-12-01 14:24:24.823</td>\n",
       "      <td>1873001@maranatha.ac.id</td>\n",
       "      <td>1873001 - Kristanto Tanuwidjaja</td>\n",
       "      <td>2021-11-19</td>\n",
       "      <td>10:00:00</td>\n",
       "      <td>17:00:00</td>\n",
       "      <td>07:00:00</td>\n",
       "      <td>All</td>\n",
       "      <td>Ambil TV, Stand Bracket, dll untuk keperluan h...</td>\n",
       "    </tr>\n",
       "    <tr>\n",
       "      <th>3</th>\n",
       "      <td>2021-12-02 07:54:12.895</td>\n",
       "      <td>1873006@maranatha.ac.id</td>\n",
       "      <td>1873006 - Sienie Celicia Dewi</td>\n",
       "      <td>2021-11-19</td>\n",
       "      <td>10:00:00</td>\n",
       "      <td>17:00:00</td>\n",
       "      <td>07:00:00</td>\n",
       "      <td>All</td>\n",
       "      <td>Checking barang persiapan hybrid yang datang, ...</td>\n",
       "    </tr>\n",
       "    <tr>\n",
       "      <th>4</th>\n",
       "      <td>2021-12-02 16:37:54.315</td>\n",
       "      <td>1873032@maranatha.ac.id</td>\n",
       "      <td>1873032 - Theresia Antonia Widiastuti</td>\n",
       "      <td>2021-11-19</td>\n",
       "      <td>10:00:00</td>\n",
       "      <td>17:00:00</td>\n",
       "      <td>07:00:00</td>\n",
       "      <td>All</td>\n",
       "      <td>rekap kelengkapan barang dari vendor, menyiapk...</td>\n",
       "    </tr>\n",
       "  </tbody>\n",
       "</table>\n",
       "</div>"
      ],
      "text/plain": [
       "                Timestamp            Email Address  \\\n",
       "0 2021-11-27 01:14:05.654  2072001@maranatha.ac.id   \n",
       "1 2021-11-27 09:15:24.546  2072008@maranatha.ac.id   \n",
       "2 2021-12-01 14:24:24.823  1873001@maranatha.ac.id   \n",
       "3 2021-12-02 07:54:12.895  1873006@maranatha.ac.id   \n",
       "4 2021-12-02 16:37:54.315  1873032@maranatha.ac.id   \n",
       "\n",
       "                              NRP - Nama    Tanggal Jam Masuk Jam Selesai  \\\n",
       "0               2072001 - Matthew Julian 2021-11-19  10:00:00    17:00:00   \n",
       "1     2072008 - Nicholas Christel Hanafi 2021-11-19  11:00:00    17:00:00   \n",
       "2        1873001 - Kristanto Tanuwidjaja 2021-11-19  10:00:00    17:00:00   \n",
       "3          1873006 - Sienie Celicia Dewi 2021-11-19  10:00:00    17:00:00   \n",
       "4  1873032 - Theresia Antonia Widiastuti 2021-11-19  10:00:00    17:00:00   \n",
       "\n",
       "  Total Jam Lab yang dilakukan maintenance  \\\n",
       "0  07:00:00                            All   \n",
       "1  06:00:00                            All   \n",
       "2  07:00:00                            All   \n",
       "3  07:00:00                            All   \n",
       "4  07:00:00                            All   \n",
       "\n",
       "                             Kegiatan yang dilakukan  \n",
       "0  pengambilan dan pemasangan alat hybrid untuk s...  \n",
       "1                Rakit Bracket dan TV untuk Hybrid.   \n",
       "2  Ambil TV, Stand Bracket, dll untuk keperluan h...  \n",
       "3  Checking barang persiapan hybrid yang datang, ...  \n",
       "4  rekap kelengkapan barang dari vendor, menyiapk...  "
      ]
     },
     "execution_count": 1,
     "metadata": {},
     "output_type": "execute_result"
    }
   ],
   "source": [
    "import pandas as pd\n",
    "\n",
    "file_path = 'Dataset Maintenance.xlsx'\n",
    "df = pd.read_excel(file_path)\n",
    "\n",
    "df.head()"
   ]
  },
  {
   "cell_type": "markdown",
   "id": "0e4a32d8-a417-4696-83e7-877acfe43ff7",
   "metadata": {},
   "source": [
    "Data pada file Excel tidak sepenuhnya siap untuk digunakan sebagai dataset. Data yang masih dalam bentuk timestamp perlu kita ubah menjadi data numerik biasa agar dapat dipelajari dan ditest."
   ]
  },
  {
   "cell_type": "code",
   "execution_count": 2,
   "id": "e51cedbe-866a-4427-afa9-3cc0b9251304",
   "metadata": {},
   "outputs": [],
   "source": [
    "from datetime import datetime, date, timedelta\n",
    "import numpy as np\n",
    "\n",
    "def convertKeJam(waktu_mulai, waktu_selesai):\n",
    "    waktu_mulai_str = str(waktu_mulai)\n",
    "    waktu_selesai_str = str(waktu_selesai)\n",
    "\n",
    "    waktu_mulai_dt = datetime.strptime(waktu_mulai_str, '%H:%M:%S').time()\n",
    "    waktu_selesai_dt = datetime.strptime(waktu_selesai_str, '%H:%M:%S').time()\n",
    "    \n",
    "    total_jam = (datetime.combine(date.min, waktu_selesai_dt) - datetime.combine(date.min, waktu_mulai_dt))\n",
    "    return total_jam.total_seconds() / 3600\n",
    "    \n",
    "df['Total Jam'] = df.apply(lambda row: convertKeJam(row['Jam Masuk'], row['Jam Selesai']), axis=1)\n",
    "df['Total Jam'] = np.floor(df['Total Jam']).astype(int)"
   ]
  },
  {
   "cell_type": "markdown",
   "id": "d6958d1e-db2a-40e6-8e5b-6af1e7d929cc",
   "metadata": {},
   "source": [
    "Selain TypeError yang diperbaiki dengan mengubah bentuk timestamp menjadi numerik, kolom lab masih dalam bentuk kategorikal. Data pada kolom tersebut perlu diubah terlebih dahulu. Pada kasus ini, kami menggunakan label encoder. Kami juga menambahkan fitur baru pada dataset yaitu Day of Year karena tanggal juga dapat menjadi faktor dari jumlah jam maintenance."
   ]
  },
  {
   "cell_type": "code",
   "execution_count": 3,
   "id": "2a41b6f6-ba8a-4e50-808a-d867e9aa3e97",
   "metadata": {},
   "outputs": [
    {
     "data": {
      "text/html": [
       "<div>\n",
       "<style scoped>\n",
       "    .dataframe tbody tr th:only-of-type {\n",
       "        vertical-align: middle;\n",
       "    }\n",
       "\n",
       "    .dataframe tbody tr th {\n",
       "        vertical-align: top;\n",
       "    }\n",
       "\n",
       "    .dataframe thead th {\n",
       "        text-align: right;\n",
       "    }\n",
       "</style>\n",
       "<table border=\"1\" class=\"dataframe\">\n",
       "  <thead>\n",
       "    <tr style=\"text-align: right;\">\n",
       "      <th></th>\n",
       "      <th>Timestamp</th>\n",
       "      <th>Email Address</th>\n",
       "      <th>NRP - Nama</th>\n",
       "      <th>Tanggal</th>\n",
       "      <th>Jam Masuk</th>\n",
       "      <th>Jam Selesai</th>\n",
       "      <th>Total Jam</th>\n",
       "      <th>Lab yang dilakukan maintenance</th>\n",
       "      <th>Kegiatan yang dilakukan</th>\n",
       "      <th>Lab</th>\n",
       "      <th>Day of Year</th>\n",
       "    </tr>\n",
       "  </thead>\n",
       "  <tbody>\n",
       "    <tr>\n",
       "      <th>0</th>\n",
       "      <td>2021-11-27 01:14:05.654</td>\n",
       "      <td>2072001@maranatha.ac.id</td>\n",
       "      <td>2072001 - Matthew Julian</td>\n",
       "      <td>2021-11-19</td>\n",
       "      <td>10:00:00</td>\n",
       "      <td>17:00:00</td>\n",
       "      <td>7</td>\n",
       "      <td>All</td>\n",
       "      <td>pengambilan dan pemasangan alat hybrid untuk s...</td>\n",
       "      <td>83</td>\n",
       "      <td>323</td>\n",
       "    </tr>\n",
       "    <tr>\n",
       "      <th>1</th>\n",
       "      <td>2021-11-27 09:15:24.546</td>\n",
       "      <td>2072008@maranatha.ac.id</td>\n",
       "      <td>2072008 - Nicholas Christel Hanafi</td>\n",
       "      <td>2021-11-19</td>\n",
       "      <td>11:00:00</td>\n",
       "      <td>17:00:00</td>\n",
       "      <td>6</td>\n",
       "      <td>All</td>\n",
       "      <td>Rakit Bracket dan TV untuk Hybrid.</td>\n",
       "      <td>83</td>\n",
       "      <td>323</td>\n",
       "    </tr>\n",
       "    <tr>\n",
       "      <th>2</th>\n",
       "      <td>2021-12-01 14:24:24.823</td>\n",
       "      <td>1873001@maranatha.ac.id</td>\n",
       "      <td>1873001 - Kristanto Tanuwidjaja</td>\n",
       "      <td>2021-11-19</td>\n",
       "      <td>10:00:00</td>\n",
       "      <td>17:00:00</td>\n",
       "      <td>7</td>\n",
       "      <td>All</td>\n",
       "      <td>Ambil TV, Stand Bracket, dll untuk keperluan h...</td>\n",
       "      <td>83</td>\n",
       "      <td>323</td>\n",
       "    </tr>\n",
       "    <tr>\n",
       "      <th>3</th>\n",
       "      <td>2021-12-02 07:54:12.895</td>\n",
       "      <td>1873006@maranatha.ac.id</td>\n",
       "      <td>1873006 - Sienie Celicia Dewi</td>\n",
       "      <td>2021-11-19</td>\n",
       "      <td>10:00:00</td>\n",
       "      <td>17:00:00</td>\n",
       "      <td>7</td>\n",
       "      <td>All</td>\n",
       "      <td>Checking barang persiapan hybrid yang datang, ...</td>\n",
       "      <td>83</td>\n",
       "      <td>323</td>\n",
       "    </tr>\n",
       "    <tr>\n",
       "      <th>4</th>\n",
       "      <td>2021-12-02 16:37:54.315</td>\n",
       "      <td>1873032@maranatha.ac.id</td>\n",
       "      <td>1873032 - Theresia Antonia Widiastuti</td>\n",
       "      <td>2021-11-19</td>\n",
       "      <td>10:00:00</td>\n",
       "      <td>17:00:00</td>\n",
       "      <td>7</td>\n",
       "      <td>All</td>\n",
       "      <td>rekap kelengkapan barang dari vendor, menyiapk...</td>\n",
       "      <td>83</td>\n",
       "      <td>323</td>\n",
       "    </tr>\n",
       "    <tr>\n",
       "      <th>...</th>\n",
       "      <td>...</td>\n",
       "      <td>...</td>\n",
       "      <td>...</td>\n",
       "      <td>...</td>\n",
       "      <td>...</td>\n",
       "      <td>...</td>\n",
       "      <td>...</td>\n",
       "      <td>...</td>\n",
       "      <td>...</td>\n",
       "      <td>...</td>\n",
       "      <td>...</td>\n",
       "    </tr>\n",
       "    <tr>\n",
       "      <th>913</th>\n",
       "      <td>2024-05-27 17:30:31.056</td>\n",
       "      <td>2273016@maranatha.ac.id</td>\n",
       "      <td>2273016 Valentina Devi R</td>\n",
       "      <td>2024-05-27</td>\n",
       "      <td>15:20:00</td>\n",
       "      <td>17:30:00</td>\n",
       "      <td>2</td>\n",
       "      <td>MMD</td>\n",
       "      <td>check all pc ( keyboard, mouse, pc, proyektor)</td>\n",
       "      <td>130</td>\n",
       "      <td>148</td>\n",
       "    </tr>\n",
       "    <tr>\n",
       "      <th>914</th>\n",
       "      <td>2024-05-27 17:31:16.155</td>\n",
       "      <td>2272041@maranatha.ac.id</td>\n",
       "      <td>2272041 Rafael Cavin Emmanuel Tuasuun</td>\n",
       "      <td>2024-05-27</td>\n",
       "      <td>12:20:00</td>\n",
       "      <td>17:20:00</td>\n",
       "      <td>5</td>\n",
       "      <td>INT 1, MMD</td>\n",
       "      <td>cek all pc (keyboard, mouse, etc.), cek proyek...</td>\n",
       "      <td>115</td>\n",
       "      <td>148</td>\n",
       "    </tr>\n",
       "    <tr>\n",
       "      <th>915</th>\n",
       "      <td>2024-05-29 20:59:35.289</td>\n",
       "      <td>2272041@maranatha.ac.id</td>\n",
       "      <td>2272041 Rafael Cavin Emmanuel Tuasuun</td>\n",
       "      <td>2024-05-29</td>\n",
       "      <td>11:00:00</td>\n",
       "      <td>16:00:00</td>\n",
       "      <td>5</td>\n",
       "      <td>ADV 1, NET</td>\n",
       "      <td>Fix problem PC net 9 dan net 31, update driver...</td>\n",
       "      <td>36</td>\n",
       "      <td>150</td>\n",
       "    </tr>\n",
       "    <tr>\n",
       "      <th>916</th>\n",
       "      <td>2024-05-30 20:57:35.719</td>\n",
       "      <td>2272041@maranatha.ac.id</td>\n",
       "      <td>2272041 Rafael Cavin Emmanuel Tuasuun</td>\n",
       "      <td>2024-05-30</td>\n",
       "      <td>12:00:00</td>\n",
       "      <td>15:00:00</td>\n",
       "      <td>3</td>\n",
       "      <td>NET</td>\n",
       "      <td>Update driver all pc NET</td>\n",
       "      <td>134</td>\n",
       "      <td>151</td>\n",
       "    </tr>\n",
       "    <tr>\n",
       "      <th>917</th>\n",
       "      <td>2024-05-30 20:59:57.304</td>\n",
       "      <td>2272041@maranatha.ac.id</td>\n",
       "      <td>2272041 Rafael Cavin Emmanuel Tuasuun</td>\n",
       "      <td>2024-05-30</td>\n",
       "      <td>16:30:00</td>\n",
       "      <td>21:00:00</td>\n",
       "      <td>4</td>\n",
       "      <td>INT 1</td>\n",
       "      <td>Solve &amp; reinstall RR INT1 PC 1-16</td>\n",
       "      <td>106</td>\n",
       "      <td>151</td>\n",
       "    </tr>\n",
       "  </tbody>\n",
       "</table>\n",
       "<p>918 rows × 11 columns</p>\n",
       "</div>"
      ],
      "text/plain": [
       "                  Timestamp            Email Address  \\\n",
       "0   2021-11-27 01:14:05.654  2072001@maranatha.ac.id   \n",
       "1   2021-11-27 09:15:24.546  2072008@maranatha.ac.id   \n",
       "2   2021-12-01 14:24:24.823  1873001@maranatha.ac.id   \n",
       "3   2021-12-02 07:54:12.895  1873006@maranatha.ac.id   \n",
       "4   2021-12-02 16:37:54.315  1873032@maranatha.ac.id   \n",
       "..                      ...                      ...   \n",
       "913 2024-05-27 17:30:31.056  2273016@maranatha.ac.id   \n",
       "914 2024-05-27 17:31:16.155  2272041@maranatha.ac.id   \n",
       "915 2024-05-29 20:59:35.289  2272041@maranatha.ac.id   \n",
       "916 2024-05-30 20:57:35.719  2272041@maranatha.ac.id   \n",
       "917 2024-05-30 20:59:57.304  2272041@maranatha.ac.id   \n",
       "\n",
       "                                NRP - Nama    Tanggal Jam Masuk Jam Selesai  \\\n",
       "0                 2072001 - Matthew Julian 2021-11-19  10:00:00    17:00:00   \n",
       "1       2072008 - Nicholas Christel Hanafi 2021-11-19  11:00:00    17:00:00   \n",
       "2          1873001 - Kristanto Tanuwidjaja 2021-11-19  10:00:00    17:00:00   \n",
       "3            1873006 - Sienie Celicia Dewi 2021-11-19  10:00:00    17:00:00   \n",
       "4    1873032 - Theresia Antonia Widiastuti 2021-11-19  10:00:00    17:00:00   \n",
       "..                                     ...        ...       ...         ...   \n",
       "913               2273016 Valentina Devi R 2024-05-27  15:20:00    17:30:00   \n",
       "914  2272041 Rafael Cavin Emmanuel Tuasuun 2024-05-27  12:20:00    17:20:00   \n",
       "915  2272041 Rafael Cavin Emmanuel Tuasuun 2024-05-29  11:00:00    16:00:00   \n",
       "916  2272041 Rafael Cavin Emmanuel Tuasuun 2024-05-30  12:00:00    15:00:00   \n",
       "917  2272041 Rafael Cavin Emmanuel Tuasuun 2024-05-30  16:30:00    21:00:00   \n",
       "\n",
       "     Total Jam Lab yang dilakukan maintenance  \\\n",
       "0            7                            All   \n",
       "1            6                            All   \n",
       "2            7                            All   \n",
       "3            7                            All   \n",
       "4            7                            All   \n",
       "..         ...                            ...   \n",
       "913          2                            MMD   \n",
       "914          5                     INT 1, MMD   \n",
       "915          5                     ADV 1, NET   \n",
       "916          3                            NET   \n",
       "917          4                          INT 1   \n",
       "\n",
       "                               Kegiatan yang dilakukan  Lab  Day of Year  \n",
       "0    pengambilan dan pemasangan alat hybrid untuk s...   83          323  \n",
       "1                  Rakit Bracket dan TV untuk Hybrid.    83          323  \n",
       "2    Ambil TV, Stand Bracket, dll untuk keperluan h...   83          323  \n",
       "3    Checking barang persiapan hybrid yang datang, ...   83          323  \n",
       "4    rekap kelengkapan barang dari vendor, menyiapk...   83          323  \n",
       "..                                                 ...  ...          ...  \n",
       "913     check all pc ( keyboard, mouse, pc, proyektor)  130          148  \n",
       "914  cek all pc (keyboard, mouse, etc.), cek proyek...  115          148  \n",
       "915  Fix problem PC net 9 dan net 31, update driver...   36          150  \n",
       "916                           Update driver all pc NET  134          151  \n",
       "917                  Solve & reinstall RR INT1 PC 1-16  106          151  \n",
       "\n",
       "[918 rows x 11 columns]"
      ]
     },
     "execution_count": 3,
     "metadata": {},
     "output_type": "execute_result"
    }
   ],
   "source": [
    "from sklearn.preprocessing import LabelEncoder\n",
    "label_encoder = LabelEncoder()\n",
    "df['Lab'] = label_encoder.fit_transform(df['Lab yang dilakukan maintenance'])\n",
    "\n",
    "df['Tanggal'] = pd.to_datetime(df['Tanggal'])\n",
    "df['Day of Year'] = df['Tanggal'].dt.dayofyear\n",
    "\n",
    "df"
   ]
  },
  {
   "cell_type": "markdown",
   "id": "d0cd4ea5-bae7-424b-bc70-290880f50108",
   "metadata": {},
   "source": [
    "Setelah itu, kami memilih kolom-kolom yang relevan saja untuk dijadikan sebagai fitur dalam dataset. Dalam kasus ini, kami membuang kolom Timestamp, Email, NRP-Nama, dan juga kegiatan yang dilakukan. Untuk memastikan tipe data sudah tidak ada yang timestamp atau float, maka kami juga menampilkan tipe data setiap kolom."
   ]
  },
  {
   "cell_type": "code",
   "execution_count": 4,
   "id": "3445541a-2889-4539-a6d6-80128616483a",
   "metadata": {},
   "outputs": [
    {
     "data": {
      "text/plain": [
       "Tanggal        datetime64[ns]\n",
       "Day of Year             int32\n",
       "Lab                     int32\n",
       "Total Jam               int32\n",
       "dtype: object"
      ]
     },
     "execution_count": 4,
     "metadata": {},
     "output_type": "execute_result"
    }
   ],
   "source": [
    "df = df[['Tanggal','Day of Year', 'Lab', 'Total Jam']]\n",
    "df.dtypes"
   ]
  },
  {
   "cell_type": "code",
   "execution_count": 40,
   "id": "e0d1021d-9129-48ed-ac3b-4ff78737657c",
   "metadata": {},
   "outputs": [],
   "source": [
    "if df.select_dtypes(include=['object']).any().any():\n",
    "    print(\"Tidak ada yang perlu diubah menjadi data numerik\")\n",
    "    for column in df.select_dtypes(include=['object']):\n",
    "        print(f\"Mengubah {column} menjadi numerik\")\n",
    "        try:\n",
    "            df[column] = df[column].astype(float)\n",
    "        except ValueError:\n",
    "            df[column] = label_encoder.fit_transform(df[column])"
   ]
  },
  {
   "cell_type": "markdown",
   "id": "6ebe2390-b7f1-4148-9ce3-f62585bb3505",
   "metadata": {},
   "source": [
    "Agar model yang akan kami buat dapat memiliki evaluasi yang komprehensif, kami akan melakukan Grid Search untuk mengetahui parameter terbaik yang akan digunakan pada model dan juga cross validation dengan fold sebanyak 5"
   ]
  },
  {
   "cell_type": "code",
   "execution_count": 6,
   "id": "9aefda23-c8a9-4ca9-8bfb-f4babff89cbb",
   "metadata": {},
   "outputs": [],
   "source": [
    "from sklearn.model_selection import train_test_split\n",
    "X = df[['Day of Year', 'Lab']]\n",
    "y = df['Total Jam']\n",
    "X_train, X_test, y_train, y_test = train_test_split(X, y, test_size=0.2, random_state=42)"
   ]
  },
  {
   "cell_type": "code",
   "execution_count": 7,
   "id": "b48e136d-3692-4973-8fa0-068a0c35a313",
   "metadata": {},
   "outputs": [
    {
     "data": {
      "text/html": [
       "<div>\n",
       "<style scoped>\n",
       "    .dataframe tbody tr th:only-of-type {\n",
       "        vertical-align: middle;\n",
       "    }\n",
       "\n",
       "    .dataframe tbody tr th {\n",
       "        vertical-align: top;\n",
       "    }\n",
       "\n",
       "    .dataframe thead th {\n",
       "        text-align: right;\n",
       "    }\n",
       "</style>\n",
       "<table border=\"1\" class=\"dataframe\">\n",
       "  <thead>\n",
       "    <tr style=\"text-align: right;\">\n",
       "      <th></th>\n",
       "      <th>Day of Year</th>\n",
       "      <th>Lab</th>\n",
       "    </tr>\n",
       "  </thead>\n",
       "  <tbody>\n",
       "    <tr>\n",
       "      <th>0</th>\n",
       "      <td>323</td>\n",
       "      <td>83</td>\n",
       "    </tr>\n",
       "    <tr>\n",
       "      <th>1</th>\n",
       "      <td>323</td>\n",
       "      <td>83</td>\n",
       "    </tr>\n",
       "    <tr>\n",
       "      <th>2</th>\n",
       "      <td>323</td>\n",
       "      <td>83</td>\n",
       "    </tr>\n",
       "    <tr>\n",
       "      <th>3</th>\n",
       "      <td>323</td>\n",
       "      <td>83</td>\n",
       "    </tr>\n",
       "    <tr>\n",
       "      <th>4</th>\n",
       "      <td>323</td>\n",
       "      <td>83</td>\n",
       "    </tr>\n",
       "    <tr>\n",
       "      <th>...</th>\n",
       "      <td>...</td>\n",
       "      <td>...</td>\n",
       "    </tr>\n",
       "    <tr>\n",
       "      <th>913</th>\n",
       "      <td>148</td>\n",
       "      <td>130</td>\n",
       "    </tr>\n",
       "    <tr>\n",
       "      <th>914</th>\n",
       "      <td>148</td>\n",
       "      <td>115</td>\n",
       "    </tr>\n",
       "    <tr>\n",
       "      <th>915</th>\n",
       "      <td>150</td>\n",
       "      <td>36</td>\n",
       "    </tr>\n",
       "    <tr>\n",
       "      <th>916</th>\n",
       "      <td>151</td>\n",
       "      <td>134</td>\n",
       "    </tr>\n",
       "    <tr>\n",
       "      <th>917</th>\n",
       "      <td>151</td>\n",
       "      <td>106</td>\n",
       "    </tr>\n",
       "  </tbody>\n",
       "</table>\n",
       "<p>918 rows × 2 columns</p>\n",
       "</div>"
      ],
      "text/plain": [
       "     Day of Year  Lab\n",
       "0            323   83\n",
       "1            323   83\n",
       "2            323   83\n",
       "3            323   83\n",
       "4            323   83\n",
       "..           ...  ...\n",
       "913          148  130\n",
       "914          148  115\n",
       "915          150   36\n",
       "916          151  134\n",
       "917          151  106\n",
       "\n",
       "[918 rows x 2 columns]"
      ]
     },
     "execution_count": 7,
     "metadata": {},
     "output_type": "execute_result"
    }
   ],
   "source": [
    "X"
   ]
  },
  {
   "cell_type": "code",
   "execution_count": 8,
   "id": "14e83108-62ae-42f2-a513-12834e0f2e2b",
   "metadata": {},
   "outputs": [],
   "source": [
    "from sklearn.ensemble import RandomForestRegressor\n",
    "model = RandomForestRegressor(random_state=42)"
   ]
  },
  {
   "cell_type": "markdown",
   "id": "31be89dd-edf4-41da-96a0-4049c71a461f",
   "metadata": {},
   "source": [
    "Grid Search"
   ]
  },
  {
   "cell_type": "code",
   "execution_count": 9,
   "id": "2c68f4ce-35f5-4c97-b218-8e6902dd87c1",
   "metadata": {},
   "outputs": [
    {
     "data": {
      "text/html": [
       "<style>#sk-container-id-1 {color: black;background-color: white;}#sk-container-id-1 pre{padding: 0;}#sk-container-id-1 div.sk-toggleable {background-color: white;}#sk-container-id-1 label.sk-toggleable__label {cursor: pointer;display: block;width: 100%;margin-bottom: 0;padding: 0.3em;box-sizing: border-box;text-align: center;}#sk-container-id-1 label.sk-toggleable__label-arrow:before {content: \"▸\";float: left;margin-right: 0.25em;color: #696969;}#sk-container-id-1 label.sk-toggleable__label-arrow:hover:before {color: black;}#sk-container-id-1 div.sk-estimator:hover label.sk-toggleable__label-arrow:before {color: black;}#sk-container-id-1 div.sk-toggleable__content {max-height: 0;max-width: 0;overflow: hidden;text-align: left;background-color: #f0f8ff;}#sk-container-id-1 div.sk-toggleable__content pre {margin: 0.2em;color: black;border-radius: 0.25em;background-color: #f0f8ff;}#sk-container-id-1 input.sk-toggleable__control:checked~div.sk-toggleable__content {max-height: 200px;max-width: 100%;overflow: auto;}#sk-container-id-1 input.sk-toggleable__control:checked~label.sk-toggleable__label-arrow:before {content: \"▾\";}#sk-container-id-1 div.sk-estimator input.sk-toggleable__control:checked~label.sk-toggleable__label {background-color: #d4ebff;}#sk-container-id-1 div.sk-label input.sk-toggleable__control:checked~label.sk-toggleable__label {background-color: #d4ebff;}#sk-container-id-1 input.sk-hidden--visually {border: 0;clip: rect(1px 1px 1px 1px);clip: rect(1px, 1px, 1px, 1px);height: 1px;margin: -1px;overflow: hidden;padding: 0;position: absolute;width: 1px;}#sk-container-id-1 div.sk-estimator {font-family: monospace;background-color: #f0f8ff;border: 1px dotted black;border-radius: 0.25em;box-sizing: border-box;margin-bottom: 0.5em;}#sk-container-id-1 div.sk-estimator:hover {background-color: #d4ebff;}#sk-container-id-1 div.sk-parallel-item::after {content: \"\";width: 100%;border-bottom: 1px solid gray;flex-grow: 1;}#sk-container-id-1 div.sk-label:hover label.sk-toggleable__label {background-color: #d4ebff;}#sk-container-id-1 div.sk-serial::before {content: \"\";position: absolute;border-left: 1px solid gray;box-sizing: border-box;top: 0;bottom: 0;left: 50%;z-index: 0;}#sk-container-id-1 div.sk-serial {display: flex;flex-direction: column;align-items: center;background-color: white;padding-right: 0.2em;padding-left: 0.2em;position: relative;}#sk-container-id-1 div.sk-item {position: relative;z-index: 1;}#sk-container-id-1 div.sk-parallel {display: flex;align-items: stretch;justify-content: center;background-color: white;position: relative;}#sk-container-id-1 div.sk-item::before, #sk-container-id-1 div.sk-parallel-item::before {content: \"\";position: absolute;border-left: 1px solid gray;box-sizing: border-box;top: 0;bottom: 0;left: 50%;z-index: -1;}#sk-container-id-1 div.sk-parallel-item {display: flex;flex-direction: column;z-index: 1;position: relative;background-color: white;}#sk-container-id-1 div.sk-parallel-item:first-child::after {align-self: flex-end;width: 50%;}#sk-container-id-1 div.sk-parallel-item:last-child::after {align-self: flex-start;width: 50%;}#sk-container-id-1 div.sk-parallel-item:only-child::after {width: 0;}#sk-container-id-1 div.sk-dashed-wrapped {border: 1px dashed gray;margin: 0 0.4em 0.5em 0.4em;box-sizing: border-box;padding-bottom: 0.4em;background-color: white;}#sk-container-id-1 div.sk-label label {font-family: monospace;font-weight: bold;display: inline-block;line-height: 1.2em;}#sk-container-id-1 div.sk-label-container {text-align: center;}#sk-container-id-1 div.sk-container {/* jupyter's `normalize.less` sets `[hidden] { display: none; }` but bootstrap.min.css set `[hidden] { display: none !important; }` so we also need the `!important` here to be able to override the default hidden behavior on the sphinx rendered scikit-learn.org. See: https://github.com/scikit-learn/scikit-learn/issues/21755 */display: inline-block !important;position: relative;}#sk-container-id-1 div.sk-text-repr-fallback {display: none;}</style><div id=\"sk-container-id-1\" class=\"sk-top-container\"><div class=\"sk-text-repr-fallback\"><pre>GridSearchCV(cv=5, estimator=RandomForestRegressor(random_state=42), n_jobs=-1,\n",
       "             param_grid={&#x27;max_depth&#x27;: [None, 10, 20, 30],\n",
       "                         &#x27;min_samples_leaf&#x27;: [1, 2, 4],\n",
       "                         &#x27;min_samples_split&#x27;: [2, 5, 10],\n",
       "                         &#x27;n_estimators&#x27;: [50, 100, 200]},\n",
       "             scoring=&#x27;neg_mean_squared_error&#x27;)</pre><b>In a Jupyter environment, please rerun this cell to show the HTML representation or trust the notebook. <br />On GitHub, the HTML representation is unable to render, please try loading this page with nbviewer.org.</b></div><div class=\"sk-container\" hidden><div class=\"sk-item sk-dashed-wrapped\"><div class=\"sk-label-container\"><div class=\"sk-label sk-toggleable\"><input class=\"sk-toggleable__control sk-hidden--visually\" id=\"sk-estimator-id-1\" type=\"checkbox\" ><label for=\"sk-estimator-id-1\" class=\"sk-toggleable__label sk-toggleable__label-arrow\">GridSearchCV</label><div class=\"sk-toggleable__content\"><pre>GridSearchCV(cv=5, estimator=RandomForestRegressor(random_state=42), n_jobs=-1,\n",
       "             param_grid={&#x27;max_depth&#x27;: [None, 10, 20, 30],\n",
       "                         &#x27;min_samples_leaf&#x27;: [1, 2, 4],\n",
       "                         &#x27;min_samples_split&#x27;: [2, 5, 10],\n",
       "                         &#x27;n_estimators&#x27;: [50, 100, 200]},\n",
       "             scoring=&#x27;neg_mean_squared_error&#x27;)</pre></div></div></div><div class=\"sk-parallel\"><div class=\"sk-parallel-item\"><div class=\"sk-item\"><div class=\"sk-label-container\"><div class=\"sk-label sk-toggleable\"><input class=\"sk-toggleable__control sk-hidden--visually\" id=\"sk-estimator-id-2\" type=\"checkbox\" ><label for=\"sk-estimator-id-2\" class=\"sk-toggleable__label sk-toggleable__label-arrow\">estimator: RandomForestRegressor</label><div class=\"sk-toggleable__content\"><pre>RandomForestRegressor(random_state=42)</pre></div></div></div><div class=\"sk-serial\"><div class=\"sk-item\"><div class=\"sk-estimator sk-toggleable\"><input class=\"sk-toggleable__control sk-hidden--visually\" id=\"sk-estimator-id-3\" type=\"checkbox\" ><label for=\"sk-estimator-id-3\" class=\"sk-toggleable__label sk-toggleable__label-arrow\">RandomForestRegressor</label><div class=\"sk-toggleable__content\"><pre>RandomForestRegressor(random_state=42)</pre></div></div></div></div></div></div></div></div></div></div>"
      ],
      "text/plain": [
       "GridSearchCV(cv=5, estimator=RandomForestRegressor(random_state=42), n_jobs=-1,\n",
       "             param_grid={'max_depth': [None, 10, 20, 30],\n",
       "                         'min_samples_leaf': [1, 2, 4],\n",
       "                         'min_samples_split': [2, 5, 10],\n",
       "                         'n_estimators': [50, 100, 200]},\n",
       "             scoring='neg_mean_squared_error')"
      ]
     },
     "execution_count": 9,
     "metadata": {},
     "output_type": "execute_result"
    }
   ],
   "source": [
    "from sklearn.model_selection import GridSearchCV\n",
    "\n",
    "param_grid = {\n",
    "    'n_estimators': [50, 100, 200],\n",
    "    'max_depth': [None, 10, 20, 30],\n",
    "    'min_samples_split': [2, 5, 10],\n",
    "    'min_samples_leaf': [1, 2, 4]\n",
    "}\n",
    "\n",
    "grid_search = GridSearchCV(estimator=model, param_grid=param_grid, cv=5, scoring='neg_mean_squared_error', n_jobs=-1)\n",
    "grid_search.fit(X_train, y_train)"
   ]
  },
  {
   "cell_type": "code",
   "execution_count": 10,
   "id": "27b40383-e9a5-4aa0-abf5-ded7bd1870d2",
   "metadata": {},
   "outputs": [
    {
     "name": "stdout",
     "output_type": "stream",
     "text": [
      "{'max_depth': 10, 'min_samples_leaf': 1, 'min_samples_split': 5, 'n_estimators': 200}\n"
     ]
    },
    {
     "data": {
      "text/html": [
       "<style>#sk-container-id-2 {color: black;background-color: white;}#sk-container-id-2 pre{padding: 0;}#sk-container-id-2 div.sk-toggleable {background-color: white;}#sk-container-id-2 label.sk-toggleable__label {cursor: pointer;display: block;width: 100%;margin-bottom: 0;padding: 0.3em;box-sizing: border-box;text-align: center;}#sk-container-id-2 label.sk-toggleable__label-arrow:before {content: \"▸\";float: left;margin-right: 0.25em;color: #696969;}#sk-container-id-2 label.sk-toggleable__label-arrow:hover:before {color: black;}#sk-container-id-2 div.sk-estimator:hover label.sk-toggleable__label-arrow:before {color: black;}#sk-container-id-2 div.sk-toggleable__content {max-height: 0;max-width: 0;overflow: hidden;text-align: left;background-color: #f0f8ff;}#sk-container-id-2 div.sk-toggleable__content pre {margin: 0.2em;color: black;border-radius: 0.25em;background-color: #f0f8ff;}#sk-container-id-2 input.sk-toggleable__control:checked~div.sk-toggleable__content {max-height: 200px;max-width: 100%;overflow: auto;}#sk-container-id-2 input.sk-toggleable__control:checked~label.sk-toggleable__label-arrow:before {content: \"▾\";}#sk-container-id-2 div.sk-estimator input.sk-toggleable__control:checked~label.sk-toggleable__label {background-color: #d4ebff;}#sk-container-id-2 div.sk-label input.sk-toggleable__control:checked~label.sk-toggleable__label {background-color: #d4ebff;}#sk-container-id-2 input.sk-hidden--visually {border: 0;clip: rect(1px 1px 1px 1px);clip: rect(1px, 1px, 1px, 1px);height: 1px;margin: -1px;overflow: hidden;padding: 0;position: absolute;width: 1px;}#sk-container-id-2 div.sk-estimator {font-family: monospace;background-color: #f0f8ff;border: 1px dotted black;border-radius: 0.25em;box-sizing: border-box;margin-bottom: 0.5em;}#sk-container-id-2 div.sk-estimator:hover {background-color: #d4ebff;}#sk-container-id-2 div.sk-parallel-item::after {content: \"\";width: 100%;border-bottom: 1px solid gray;flex-grow: 1;}#sk-container-id-2 div.sk-label:hover label.sk-toggleable__label {background-color: #d4ebff;}#sk-container-id-2 div.sk-serial::before {content: \"\";position: absolute;border-left: 1px solid gray;box-sizing: border-box;top: 0;bottom: 0;left: 50%;z-index: 0;}#sk-container-id-2 div.sk-serial {display: flex;flex-direction: column;align-items: center;background-color: white;padding-right: 0.2em;padding-left: 0.2em;position: relative;}#sk-container-id-2 div.sk-item {position: relative;z-index: 1;}#sk-container-id-2 div.sk-parallel {display: flex;align-items: stretch;justify-content: center;background-color: white;position: relative;}#sk-container-id-2 div.sk-item::before, #sk-container-id-2 div.sk-parallel-item::before {content: \"\";position: absolute;border-left: 1px solid gray;box-sizing: border-box;top: 0;bottom: 0;left: 50%;z-index: -1;}#sk-container-id-2 div.sk-parallel-item {display: flex;flex-direction: column;z-index: 1;position: relative;background-color: white;}#sk-container-id-2 div.sk-parallel-item:first-child::after {align-self: flex-end;width: 50%;}#sk-container-id-2 div.sk-parallel-item:last-child::after {align-self: flex-start;width: 50%;}#sk-container-id-2 div.sk-parallel-item:only-child::after {width: 0;}#sk-container-id-2 div.sk-dashed-wrapped {border: 1px dashed gray;margin: 0 0.4em 0.5em 0.4em;box-sizing: border-box;padding-bottom: 0.4em;background-color: white;}#sk-container-id-2 div.sk-label label {font-family: monospace;font-weight: bold;display: inline-block;line-height: 1.2em;}#sk-container-id-2 div.sk-label-container {text-align: center;}#sk-container-id-2 div.sk-container {/* jupyter's `normalize.less` sets `[hidden] { display: none; }` but bootstrap.min.css set `[hidden] { display: none !important; }` so we also need the `!important` here to be able to override the default hidden behavior on the sphinx rendered scikit-learn.org. See: https://github.com/scikit-learn/scikit-learn/issues/21755 */display: inline-block !important;position: relative;}#sk-container-id-2 div.sk-text-repr-fallback {display: none;}</style><div id=\"sk-container-id-2\" class=\"sk-top-container\"><div class=\"sk-text-repr-fallback\"><pre>RandomForestRegressor(max_depth=10, min_samples_split=5, n_estimators=200,\n",
       "                      random_state=42)</pre><b>In a Jupyter environment, please rerun this cell to show the HTML representation or trust the notebook. <br />On GitHub, the HTML representation is unable to render, please try loading this page with nbviewer.org.</b></div><div class=\"sk-container\" hidden><div class=\"sk-item\"><div class=\"sk-estimator sk-toggleable\"><input class=\"sk-toggleable__control sk-hidden--visually\" id=\"sk-estimator-id-4\" type=\"checkbox\" checked><label for=\"sk-estimator-id-4\" class=\"sk-toggleable__label sk-toggleable__label-arrow\">RandomForestRegressor</label><div class=\"sk-toggleable__content\"><pre>RandomForestRegressor(max_depth=10, min_samples_split=5, n_estimators=200,\n",
       "                      random_state=42)</pre></div></div></div></div></div>"
      ],
      "text/plain": [
       "RandomForestRegressor(max_depth=10, min_samples_split=5, n_estimators=200,\n",
       "                      random_state=42)"
      ]
     },
     "execution_count": 10,
     "metadata": {},
     "output_type": "execute_result"
    }
   ],
   "source": [
    "best_params = grid_search.best_params_\n",
    "best_model = grid_search.best_estimator_\n",
    "y_pred = best_model.predict(X_test)\n",
    "\n",
    "print(best_params)\n",
    "best_model = RandomForestRegressor(\n",
    "    n_estimators=best_params['n_estimators'],\n",
    "    max_depth=best_params['max_depth'],\n",
    "    min_samples_split=best_params['min_samples_split'],\n",
    "    min_samples_leaf=best_params['min_samples_leaf'],\n",
    "    random_state=42\n",
    ")\n",
    "\n",
    "best_model.fit(X_train, y_train)"
   ]
  },
  {
   "cell_type": "code",
   "execution_count": 11,
   "id": "3f5e2ed3-3cf0-4e67-ab37-507de9a4c6f7",
   "metadata": {},
   "outputs": [
    {
     "name": "stdout",
     "output_type": "stream",
     "text": [
      "Mean Squared Error (MSE): 2.23\n",
      "Mean Absolute Error (MAE): 1.09\n",
      "R-squared (R2): 0.14\n"
     ]
    }
   ],
   "source": [
    "from sklearn.metrics import mean_squared_error, mean_absolute_error, r2_score\n",
    "\n",
    "mse = mean_squared_error(y_test, y_pred)\n",
    "mae = mean_absolute_error(y_test, y_pred)\n",
    "r2 = r2_score(y_test, y_pred)\n",
    "\n",
    "print(f'Mean Squared Error (MSE): {mse:.2f}')\n",
    "print(f'Mean Absolute Error (MAE): {mae:.2f}')\n",
    "print(f'R-squared (R2): {r2:.2f}')"
   ]
  },
  {
   "cell_type": "markdown",
   "id": "70cdd415-157f-4c68-8c4e-261fc6816176",
   "metadata": {},
   "source": [
    "Pembentukan model dengan best hyperparameter, sudah selesai. Sekarang, program akan dilanjutkan dengan membuat prediksi untuk 30 hari ke depan dan 180 hari ke depan."
   ]
  },
  {
   "cell_type": "markdown",
   "id": "62f329ed-3eb0-4bab-87a8-537063849e8f",
   "metadata": {},
   "source": [
    "Kami membuat prediksi untuk yang 30 hari terlebih dahulu. Caranya adalah kami mengambil tanggal maksimum dari dataset, kami tidak mengambil dari kolom \"Day of Year\" karena data yang ada pada kolom tersebut tidak mengandung tahun sehingga bisa saja yang diambil lebih awal dari tahun 2024. \n",
    "\n",
    "Kemudian tanggal tersebut ditambahkan dengan 30 dan setelah itu data tersebut diubah kembali menjadi data numerik dan dimasukkan ke dalam kolom \"Day of Year\". Setelah mendapatkan data untuk kolom \"Day of Year\", dataframe baru dibuat untuk melakukan prediksi."
   ]
  },
  {
   "cell_type": "code",
   "execution_count": 28,
   "id": "92f600bb-9804-47f2-ad7b-7ad8716a2958",
   "metadata": {},
   "outputs": [],
   "source": [
    "# Tanggal terakhir yang ada di dataset\n",
    "tanggal_terakhir = df['Tanggal'].max()\n",
    "\n",
    "# Membuat tanggal untuk 30 hari ke depan\n",
    "tanggal_prediksi_30 = [tanggal_terakhir + timedelta(days=i) for i in range(1, 31)]\n",
    "day_of_year_prediksi_30 = [tanggal.dayofyear for tanggal in tanggal_prediksi_30]\n",
    "\n",
    "lab_ids = df['Lab'].unique()\n",
    "\n",
    "df_prediksi_total = pd.DataFrame()\n",
    "\n",
    "# Prediksi untuk setiap lab selama 30 hari ke depan\n",
    "for lab in lab_ids:\n",
    "    df_prediksi_30 = pd.DataFrame({\n",
    "        'Day of Year': day_of_year_prediksi_30,\n",
    "        'Lab': [lab] * len(day_of_year_prediksi_30)\n",
    "    })\n",
    "    df_prediksi_30['Total Jam Prediksi'] = best_model.predict(df_prediksi_30)\n",
    "    df_prediksi_30['Tanggal'] = tanggal_prediksi_30\n",
    "    df_prediksi_30['Lab'] = lab\n",
    "    df_prediksi_total = pd.concat([df_prediksi_total, df_prediksi_30])"
   ]
  },
  {
   "cell_type": "code",
   "execution_count": 29,
   "id": "5df5f0a8-d973-4e45-86d5-f44c68910e99",
   "metadata": {},
   "outputs": [],
   "source": [
    "tanggal_prediksi_180 = [tanggal_terakhir + timedelta(days=i) for i in range(1, 181)]\n",
    "day_of_year_prediksi_180 = [tanggal.dayofyear for tanggal in tanggal_prediksi_180]\n",
    "\n",
    "lab_ids = df['Lab'].unique()\n",
    "\n",
    "df_prediksi_total_180 = pd.DataFrame()\n",
    "\n",
    "for lab in lab_ids:\n",
    "    df_prediksi_180 = pd.DataFrame({\n",
    "        'Day of Year': day_of_year_prediksi_180,\n",
    "        'Lab': [lab] * len(day_of_year_prediksi_180)\n",
    "    })\n",
    "    df_prediksi_180['Total Jam Prediksi'] = best_model.predict(df_prediksi_180)\n",
    "    df_prediksi_180['Tanggal'] = tanggal_prediksi_180\n",
    "    df_prediksi_180['Lab'] = lab\n",
    "    df_prediksi_total_180 = pd.concat([df_prediksi_total_180, df_prediksi_180])"
   ]
  },
  {
   "cell_type": "markdown",
   "id": "34bdaa99-d5aa-489c-b27d-c91b40457079",
   "metadata": {},
   "source": [
    "#### Prediksi berhasil dilakukan, rasanya kurang apabila datanya tidak divisualisasikan. Kami membuat visualisasi dengan scatter plot."
   ]
  },
  {
   "cell_type": "code",
   "execution_count": 36,
   "id": "f01e0468-c7d2-46fd-8830-71bd7990b3fe",
   "metadata": {
    "scrolled": true
   },
   "outputs": [
    {
     "data": {
      "image/png": "[encoded data removed]",
      "text/plain": [
       "<Figure size 1000x600 with 1 Axes>"
      ]
     },
     "metadata": {},
     "output_type": "display_data"
    }
   ],
   "source": [
    "import matplotlib.pyplot as plt\n",
    "\n",
    "plt.figure(figsize=(10, 6))\n",
    "plt.scatter(df['Tanggal'], df['Total Jam'], label='Data Asli')\n",
    "plt.scatter(df_prediksi_30['Tanggal'], df_prediksi_30['Total Jam Prediksi'], color='red', label='Prediksi 30 Hari')\n",
    "plt.xlabel('Tanggal')\n",
    "plt.ylabel('Total Jam')\n",
    "plt.title('Prediksi Total Jam Maintenance untuk 30 Hari ke Depan')\n",
    "plt.legend()\n",
    "plt.grid(True)\n",
    "plt.show()\n"
   ]
  },
  {
   "cell_type": "code",
   "execution_count": 37,
   "id": "c3e0ce6e-0aa8-4973-964b-480e53c7db5c",
   "metadata": {},
   "outputs": [
    {
     "data": {
      "image/png": "[encoded data removed]",
      "text/plain": [
       "<Figure size 1000x600 with 1 Axes>"
      ]
     },
     "metadata": {},
     "output_type": "display_data"
    }
   ],
   "source": [
    "\n",
    "plt.figure(figsize=(10, 6))\n",
    "plt.scatter(df['Tanggal'], df['Total Jam'], label='Data Asli')\n",
    "plt.scatter(df_prediksi_180['Tanggal'], df_prediksi_180['Total Jam Prediksi'], color='green', label='Prediksi 180 Hari')\n",
    "plt.xlabel('Tanggal')\n",
    "plt.ylabel('Total Jam')\n",
    "plt.title('Prediksi Total Jam Maintenance untuk 180 Hari ke Depan')\n",
    "plt.legend()\n",
    "plt.grid(True)\n",
    "plt.show()"
   ]
  },
  {
   "cell_type": "markdown",
   "id": "8ad6e332-c996-4de6-bb3f-58e5beff3e23",
   "metadata": {},
   "source": [
    "Untuk mengetahui lab mana yang paling butuh maintenance di bulan berikutnya, kita perlu mengetahui total jam per labnya selama 30 hari ke depan."
   ]
  },
  {
   "cell_type": "code",
   "execution_count": 45,
   "id": "a18a6e29-875d-4eae-9bb1-d72a27f7bc37",
   "metadata": {},
   "outputs": [
    {
     "name": "stdout",
     "output_type": "stream",
     "text": [
      "Lab yang membutuhkan maintenance terbanyak selama 30 hari ke depan: INT 1, Prog 1, Prog 2 dengan total jam prediksi: 99.48\n"
     ]
    }
   ],
   "source": [
    "# Akumulasi hasil prediksi per lab selama 30 hari\n",
    "total_jam_per_lab_30 = df_prediksi_total.groupby('Lab')['Total Jam Prediksi'].sum().reset_index()\n",
    "\n",
    "# Menentukan lab dengan kebutuhan maintenance tertinggi selama 30 hari\n",
    "lab_butuh_maintenance_30 = total_jam_per_lab_30.loc[total_jam_per_lab_30['Total Jam Prediksi'].idxmax()]\n",
    "print(f\"Lab yang membutuhkan maintenance terbanyak selama 30 hari ke depan: {label_encoder.inverse_transform([int(lab_butuh_maintenance_30['Lab'])])[0]} dengan total jam prediksi: {lab_butuh_maintenance_30['Total Jam Prediksi']:.2f}\")"
   ]
  },
  {
   "cell_type": "code",
   "execution_count": 42,
   "id": "4349d4b7-e0da-45a6-8bde-f9ec7374b1c4",
   "metadata": {},
   "outputs": [
    {
     "name": "stdout",
     "output_type": "stream",
     "text": [
      "Lab yang membutuhkan maintenance terbanyak selama 180 hari ke depan: INT 1, Prog 1, Prog 2 dengan total jam prediksi: 594.89\n"
     ]
    }
   ],
   "source": [
    "# Akumulasi hasil prediksi per lab selama 180 hari\n",
    "total_jam_per_lab_180 = df_prediksi_total_180.groupby('Lab')['Total Jam Prediksi'].sum().reset_index()\n",
    "\n",
    "# Menentukan lab dengan kebutuhan maintenance tertinggi selama 180 hari\n",
    "lab_butuh_maintenance_180 = total_jam_per_lab_180.loc[total_jam_per_lab_180['Total Jam Prediksi'].idxmax()]\n",
    "print(f\"Lab yang membutuhkan maintenance terbanyak selama 180 hari ke depan: {label_encoder.inverse_transform([int(lab_butuh_maintenance_180['Lab'])])[0]} dengan total jam prediksi: {lab_butuh_maintenance_180['Total Jam Prediksi']:.2f}\")"
   ]
  },
  {
   "cell_type": "markdown",
   "id": "ce4fac72-b260-4f39-99fb-5fe62a82a310",
   "metadata": {},
   "source": [
    "### Dengan demikian, kita dapat mengetahui lab mana saja yang perlu maintenance selama 1 bulan dan 1 semester ke depan dan perkiraan jam maintenancenya. "
   ]
  },
  {
   "cell_type": "markdown",
   "id": "1a57c2eb-2bec-495a-9099-39cb7b958901",
   "metadata": {},
   "source": [
    "#### Informasi ini dapat dijadikan warning atau referensi alokasi pembetukan anggota tim staff lab."
   ]
  }
 ],
 "metadata": {
  "kernelspec": {
   "display_name": "Python 3 (ipykernel)",
   "language": "python",
   "name": "python3"
  },
  "language_info": {
   "codemirror_mode": {
    "name": "ipython",
    "version": 3
   },
   "file_extension": ".py",
   "mimetype": "text/x-python",
   "name": "python",
   "nbconvert_exporter": "python",
   "pygments_lexer": "ipython3",
   "version": "3.11.7"
  }
 },
 "nbformat": 4,
 "nbformat_minor": 5
}
